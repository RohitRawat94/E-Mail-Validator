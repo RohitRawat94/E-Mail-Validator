{
 "cells": [
  {
   "cell_type": "markdown",
   "id": "cc3c0b90",
   "metadata": {},
   "source": [
    "# email verificaton"
   ]
  },
  {
   "cell_type": "code",
   "execution_count": 2,
   "id": "a25f7356",
   "metadata": {},
   "outputs": [
    {
     "name": "stdout",
     "output_type": "stream",
     "text": [
      "enter your email: rawat.rohit1809@gmail.com\n",
      "Right email\n"
     ]
    }
   ],
   "source": [
    "email=input(\"enter your email: \")\n",
    "h,j,d=0,0,0\n",
    "if len(email)>=9:\n",
    "    if email[0].isalpha():\n",
    "        if (\"@\" in email) and (email.count(\"@\")==1) and (email[-10]==\"@\"):\n",
    "            if (\"gmail.com\" in email) and (email[-4]==\".\"):\n",
    "                for k in email:\n",
    "                    if k==k.isspace():\n",
    "                        h=1\n",
    "                    elif k.isalpha():\n",
    "                        if k==k.upper():\n",
    "                            j=1\n",
    "                    elif k.isdigit():\n",
    "                        continue\n",
    "                    elif k==\"_\" or k==\".\" or k==\"@\":\n",
    "                        continue\n",
    "                    else:\n",
    "                        d=1\n",
    "                if h==1 or j==1 or d==1:\n",
    "                    print(\"Wrong email 5\")\n",
    "                else:\n",
    "                    print(\"Right email\")\n",
    "                    \n",
    "            else:\n",
    "                print(\"wrong email 4\")\n",
    "        else:\n",
    "            print(\"wrong email 3\")\n",
    "        \n",
    "    else:\n",
    "        print(\"wrong email 2\")\n",
    "else:\n",
    "    print(\"wrong email 1\")"
   ]
  },
  {
   "cell_type": "code",
   "execution_count": null,
   "id": "ab9f8bd0",
   "metadata": {},
   "outputs": [],
   "source": []
  }
 ],
 "metadata": {
  "kernelspec": {
   "display_name": "Python 3 (ipykernel)",
   "language": "python",
   "name": "python3"
  },
  "language_info": {
   "codemirror_mode": {
    "name": "ipython",
    "version": 3
   },
   "file_extension": ".py",
   "mimetype": "text/x-python",
   "name": "python",
   "nbconvert_exporter": "python",
   "pygments_lexer": "ipython3",
   "version": "3.11.3"
  }
 },
 "nbformat": 4,
 "nbformat_minor": 5
}
